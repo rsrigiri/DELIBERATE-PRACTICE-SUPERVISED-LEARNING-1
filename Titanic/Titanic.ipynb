{
 "cells": [
  {
   "cell_type": "code",
   "execution_count": 1,
   "metadata": {
    "collapsed": true
   },
   "outputs": [],
   "source": [
    "import numpy as np\n",
    "import pandas as pd\n",
    "import matplotlib.pyplot as plt\n",
    "%matplotlib inline"
   ]
  },
  {
   "cell_type": "code",
   "execution_count": 2,
   "metadata": {
    "collapsed": true
   },
   "outputs": [],
   "source": [
    "import seaborn as sns"
   ]
  },
  {
   "cell_type": "code",
   "execution_count": 3,
   "metadata": {
    "collapsed": true
   },
   "outputs": [],
   "source": [
    "# Reading in the data\n",
    "train = pd.read_csv(\"train.csv\")\n",
    "test = pd.read_csv(\"test.csv\")"
   ]
  },
  {
   "cell_type": "code",
   "execution_count": 4,
   "metadata": {
    "scrolled": true
   },
   "outputs": [
    {
     "data": {
      "text/html": [
       "<div>\n",
       "<style>\n",
       "    .dataframe thead tr:only-child th {\n",
       "        text-align: right;\n",
       "    }\n",
       "\n",
       "    .dataframe thead th {\n",
       "        text-align: left;\n",
       "    }\n",
       "\n",
       "    .dataframe tbody tr th {\n",
       "        vertical-align: top;\n",
       "    }\n",
       "</style>\n",
       "<table border=\"1\" class=\"dataframe\">\n",
       "  <thead>\n",
       "    <tr style=\"text-align: right;\">\n",
       "      <th></th>\n",
       "      <th>PassengerId</th>\n",
       "      <th>Survived</th>\n",
       "      <th>Pclass</th>\n",
       "      <th>Name</th>\n",
       "      <th>Sex</th>\n",
       "      <th>Age</th>\n",
       "      <th>SibSp</th>\n",
       "      <th>Parch</th>\n",
       "      <th>Ticket</th>\n",
       "      <th>Fare</th>\n",
       "      <th>Cabin</th>\n",
       "      <th>Embarked</th>\n",
       "    </tr>\n",
       "  </thead>\n",
       "  <tbody>\n",
       "    <tr>\n",
       "      <th>0</th>\n",
       "      <td>1</td>\n",
       "      <td>0</td>\n",
       "      <td>3</td>\n",
       "      <td>Braund, Mr. Owen Harris</td>\n",
       "      <td>male</td>\n",
       "      <td>22.0</td>\n",
       "      <td>1</td>\n",
       "      <td>0</td>\n",
       "      <td>A/5 21171</td>\n",
       "      <td>7.2500</td>\n",
       "      <td>NaN</td>\n",
       "      <td>S</td>\n",
       "    </tr>\n",
       "    <tr>\n",
       "      <th>1</th>\n",
       "      <td>2</td>\n",
       "      <td>1</td>\n",
       "      <td>1</td>\n",
       "      <td>Cumings, Mrs. John Bradley (Florence Briggs Th...</td>\n",
       "      <td>female</td>\n",
       "      <td>38.0</td>\n",
       "      <td>1</td>\n",
       "      <td>0</td>\n",
       "      <td>PC 17599</td>\n",
       "      <td>71.2833</td>\n",
       "      <td>C85</td>\n",
       "      <td>C</td>\n",
       "    </tr>\n",
       "    <tr>\n",
       "      <th>2</th>\n",
       "      <td>3</td>\n",
       "      <td>1</td>\n",
       "      <td>3</td>\n",
       "      <td>Heikkinen, Miss. Laina</td>\n",
       "      <td>female</td>\n",
       "      <td>26.0</td>\n",
       "      <td>0</td>\n",
       "      <td>0</td>\n",
       "      <td>STON/O2. 3101282</td>\n",
       "      <td>7.9250</td>\n",
       "      <td>NaN</td>\n",
       "      <td>S</td>\n",
       "    </tr>\n",
       "    <tr>\n",
       "      <th>3</th>\n",
       "      <td>4</td>\n",
       "      <td>1</td>\n",
       "      <td>1</td>\n",
       "      <td>Futrelle, Mrs. Jacques Heath (Lily May Peel)</td>\n",
       "      <td>female</td>\n",
       "      <td>35.0</td>\n",
       "      <td>1</td>\n",
       "      <td>0</td>\n",
       "      <td>113803</td>\n",
       "      <td>53.1000</td>\n",
       "      <td>C123</td>\n",
       "      <td>S</td>\n",
       "    </tr>\n",
       "    <tr>\n",
       "      <th>4</th>\n",
       "      <td>5</td>\n",
       "      <td>0</td>\n",
       "      <td>3</td>\n",
       "      <td>Allen, Mr. William Henry</td>\n",
       "      <td>male</td>\n",
       "      <td>35.0</td>\n",
       "      <td>0</td>\n",
       "      <td>0</td>\n",
       "      <td>373450</td>\n",
       "      <td>8.0500</td>\n",
       "      <td>NaN</td>\n",
       "      <td>S</td>\n",
       "    </tr>\n",
       "  </tbody>\n",
       "</table>\n",
       "</div>"
      ],
      "text/plain": [
       "   PassengerId  Survived  Pclass  \\\n",
       "0            1         0       3   \n",
       "1            2         1       1   \n",
       "2            3         1       3   \n",
       "3            4         1       1   \n",
       "4            5         0       3   \n",
       "\n",
       "                                                Name     Sex   Age  SibSp  \\\n",
       "0                            Braund, Mr. Owen Harris    male  22.0      1   \n",
       "1  Cumings, Mrs. John Bradley (Florence Briggs Th...  female  38.0      1   \n",
       "2                             Heikkinen, Miss. Laina  female  26.0      0   \n",
       "3       Futrelle, Mrs. Jacques Heath (Lily May Peel)  female  35.0      1   \n",
       "4                           Allen, Mr. William Henry    male  35.0      0   \n",
       "\n",
       "   Parch            Ticket     Fare Cabin Embarked  \n",
       "0      0         A/5 21171   7.2500   NaN        S  \n",
       "1      0          PC 17599  71.2833   C85        C  \n",
       "2      0  STON/O2. 3101282   7.9250   NaN        S  \n",
       "3      0            113803  53.1000  C123        S  \n",
       "4      0            373450   8.0500   NaN        S  "
      ]
     },
     "execution_count": 4,
     "metadata": {},
     "output_type": "execute_result"
    }
   ],
   "source": [
    "train.head()"
   ]
  },
  {
   "cell_type": "code",
   "execution_count": 5,
   "metadata": {},
   "outputs": [
    {
     "data": {
      "text/html": [
       "<div>\n",
       "<style>\n",
       "    .dataframe thead tr:only-child th {\n",
       "        text-align: right;\n",
       "    }\n",
       "\n",
       "    .dataframe thead th {\n",
       "        text-align: left;\n",
       "    }\n",
       "\n",
       "    .dataframe tbody tr th {\n",
       "        vertical-align: top;\n",
       "    }\n",
       "</style>\n",
       "<table border=\"1\" class=\"dataframe\">\n",
       "  <thead>\n",
       "    <tr style=\"text-align: right;\">\n",
       "      <th></th>\n",
       "      <th>PassengerId</th>\n",
       "      <th>Pclass</th>\n",
       "      <th>Name</th>\n",
       "      <th>Sex</th>\n",
       "      <th>Age</th>\n",
       "      <th>SibSp</th>\n",
       "      <th>Parch</th>\n",
       "      <th>Ticket</th>\n",
       "      <th>Fare</th>\n",
       "      <th>Cabin</th>\n",
       "      <th>Embarked</th>\n",
       "    </tr>\n",
       "  </thead>\n",
       "  <tbody>\n",
       "    <tr>\n",
       "      <th>0</th>\n",
       "      <td>892</td>\n",
       "      <td>3</td>\n",
       "      <td>Kelly, Mr. James</td>\n",
       "      <td>male</td>\n",
       "      <td>34.5</td>\n",
       "      <td>0</td>\n",
       "      <td>0</td>\n",
       "      <td>330911</td>\n",
       "      <td>7.8292</td>\n",
       "      <td>NaN</td>\n",
       "      <td>Q</td>\n",
       "    </tr>\n",
       "    <tr>\n",
       "      <th>1</th>\n",
       "      <td>893</td>\n",
       "      <td>3</td>\n",
       "      <td>Wilkes, Mrs. James (Ellen Needs)</td>\n",
       "      <td>female</td>\n",
       "      <td>47.0</td>\n",
       "      <td>1</td>\n",
       "      <td>0</td>\n",
       "      <td>363272</td>\n",
       "      <td>7.0000</td>\n",
       "      <td>NaN</td>\n",
       "      <td>S</td>\n",
       "    </tr>\n",
       "    <tr>\n",
       "      <th>2</th>\n",
       "      <td>894</td>\n",
       "      <td>2</td>\n",
       "      <td>Myles, Mr. Thomas Francis</td>\n",
       "      <td>male</td>\n",
       "      <td>62.0</td>\n",
       "      <td>0</td>\n",
       "      <td>0</td>\n",
       "      <td>240276</td>\n",
       "      <td>9.6875</td>\n",
       "      <td>NaN</td>\n",
       "      <td>Q</td>\n",
       "    </tr>\n",
       "    <tr>\n",
       "      <th>3</th>\n",
       "      <td>895</td>\n",
       "      <td>3</td>\n",
       "      <td>Wirz, Mr. Albert</td>\n",
       "      <td>male</td>\n",
       "      <td>27.0</td>\n",
       "      <td>0</td>\n",
       "      <td>0</td>\n",
       "      <td>315154</td>\n",
       "      <td>8.6625</td>\n",
       "      <td>NaN</td>\n",
       "      <td>S</td>\n",
       "    </tr>\n",
       "    <tr>\n",
       "      <th>4</th>\n",
       "      <td>896</td>\n",
       "      <td>3</td>\n",
       "      <td>Hirvonen, Mrs. Alexander (Helga E Lindqvist)</td>\n",
       "      <td>female</td>\n",
       "      <td>22.0</td>\n",
       "      <td>1</td>\n",
       "      <td>1</td>\n",
       "      <td>3101298</td>\n",
       "      <td>12.2875</td>\n",
       "      <td>NaN</td>\n",
       "      <td>S</td>\n",
       "    </tr>\n",
       "  </tbody>\n",
       "</table>\n",
       "</div>"
      ],
      "text/plain": [
       "   PassengerId  Pclass                                          Name     Sex  \\\n",
       "0          892       3                              Kelly, Mr. James    male   \n",
       "1          893       3              Wilkes, Mrs. James (Ellen Needs)  female   \n",
       "2          894       2                     Myles, Mr. Thomas Francis    male   \n",
       "3          895       3                              Wirz, Mr. Albert    male   \n",
       "4          896       3  Hirvonen, Mrs. Alexander (Helga E Lindqvist)  female   \n",
       "\n",
       "    Age  SibSp  Parch   Ticket     Fare Cabin Embarked  \n",
       "0  34.5      0      0   330911   7.8292   NaN        Q  \n",
       "1  47.0      1      0   363272   7.0000   NaN        S  \n",
       "2  62.0      0      0   240276   9.6875   NaN        Q  \n",
       "3  27.0      0      0   315154   8.6625   NaN        S  \n",
       "4  22.0      1      1  3101298  12.2875   NaN        S  "
      ]
     },
     "execution_count": 5,
     "metadata": {},
     "output_type": "execute_result"
    }
   ],
   "source": [
    "test.head()"
   ]
  },
  {
   "cell_type": "code",
   "execution_count": 6,
   "metadata": {
    "collapsed": true
   },
   "outputs": [],
   "source": [
    "# Creating a copy of the training set for data exploration\n",
    "df_exp = train"
   ]
  },
  {
   "cell_type": "markdown",
   "metadata": {},
   "source": [
    "### Checks:\n",
    "1. What is the shape of the data-set? Display a few rows of the dataset\n",
    "2. Display the dataset information?\n",
    "2. What is the target variable?\n",
    "3. List and assess which variables have null values that need to be taken care off.\n",
    "4. Look at all the variables individually\n",
    " - Check if the variable is discrete or continuous?\n",
    " - Check if variable is nominal or ordinal\n",
    " - If discrete check for unique values\n",
    " - If continuous, take a look at the descriptive stats\n",
    " - If continuous, take a look at the distribution of the variable.\n",
    " - Get a sense of correlation between the attribute and target variable."
   ]
  },
  {
   "cell_type": "code",
   "execution_count": 7,
   "metadata": {},
   "outputs": [
    {
     "data": {
      "text/plain": [
       "(891, 12)"
      ]
     },
     "execution_count": 7,
     "metadata": {},
     "output_type": "execute_result"
    }
   ],
   "source": [
    "# DATASET SHAPE\n",
    "df_exp.shape"
   ]
  },
  {
   "cell_type": "code",
   "execution_count": 8,
   "metadata": {},
   "outputs": [
    {
     "data": {
      "text/html": [
       "<div>\n",
       "<style>\n",
       "    .dataframe thead tr:only-child th {\n",
       "        text-align: right;\n",
       "    }\n",
       "\n",
       "    .dataframe thead th {\n",
       "        text-align: left;\n",
       "    }\n",
       "\n",
       "    .dataframe tbody tr th {\n",
       "        vertical-align: top;\n",
       "    }\n",
       "</style>\n",
       "<table border=\"1\" class=\"dataframe\">\n",
       "  <thead>\n",
       "    <tr style=\"text-align: right;\">\n",
       "      <th></th>\n",
       "      <th>PassengerId</th>\n",
       "      <th>Survived</th>\n",
       "      <th>Pclass</th>\n",
       "      <th>Name</th>\n",
       "      <th>Sex</th>\n",
       "      <th>Age</th>\n",
       "      <th>SibSp</th>\n",
       "      <th>Parch</th>\n",
       "      <th>Ticket</th>\n",
       "      <th>Fare</th>\n",
       "      <th>Cabin</th>\n",
       "      <th>Embarked</th>\n",
       "    </tr>\n",
       "  </thead>\n",
       "  <tbody>\n",
       "    <tr>\n",
       "      <th>0</th>\n",
       "      <td>1</td>\n",
       "      <td>0</td>\n",
       "      <td>3</td>\n",
       "      <td>Braund, Mr. Owen Harris</td>\n",
       "      <td>male</td>\n",
       "      <td>22.0</td>\n",
       "      <td>1</td>\n",
       "      <td>0</td>\n",
       "      <td>A/5 21171</td>\n",
       "      <td>7.2500</td>\n",
       "      <td>NaN</td>\n",
       "      <td>S</td>\n",
       "    </tr>\n",
       "    <tr>\n",
       "      <th>1</th>\n",
       "      <td>2</td>\n",
       "      <td>1</td>\n",
       "      <td>1</td>\n",
       "      <td>Cumings, Mrs. John Bradley (Florence Briggs Th...</td>\n",
       "      <td>female</td>\n",
       "      <td>38.0</td>\n",
       "      <td>1</td>\n",
       "      <td>0</td>\n",
       "      <td>PC 17599</td>\n",
       "      <td>71.2833</td>\n",
       "      <td>C85</td>\n",
       "      <td>C</td>\n",
       "    </tr>\n",
       "    <tr>\n",
       "      <th>2</th>\n",
       "      <td>3</td>\n",
       "      <td>1</td>\n",
       "      <td>3</td>\n",
       "      <td>Heikkinen, Miss. Laina</td>\n",
       "      <td>female</td>\n",
       "      <td>26.0</td>\n",
       "      <td>0</td>\n",
       "      <td>0</td>\n",
       "      <td>STON/O2. 3101282</td>\n",
       "      <td>7.9250</td>\n",
       "      <td>NaN</td>\n",
       "      <td>S</td>\n",
       "    </tr>\n",
       "    <tr>\n",
       "      <th>3</th>\n",
       "      <td>4</td>\n",
       "      <td>1</td>\n",
       "      <td>1</td>\n",
       "      <td>Futrelle, Mrs. Jacques Heath (Lily May Peel)</td>\n",
       "      <td>female</td>\n",
       "      <td>35.0</td>\n",
       "      <td>1</td>\n",
       "      <td>0</td>\n",
       "      <td>113803</td>\n",
       "      <td>53.1000</td>\n",
       "      <td>C123</td>\n",
       "      <td>S</td>\n",
       "    </tr>\n",
       "    <tr>\n",
       "      <th>4</th>\n",
       "      <td>5</td>\n",
       "      <td>0</td>\n",
       "      <td>3</td>\n",
       "      <td>Allen, Mr. William Henry</td>\n",
       "      <td>male</td>\n",
       "      <td>35.0</td>\n",
       "      <td>0</td>\n",
       "      <td>0</td>\n",
       "      <td>373450</td>\n",
       "      <td>8.0500</td>\n",
       "      <td>NaN</td>\n",
       "      <td>S</td>\n",
       "    </tr>\n",
       "  </tbody>\n",
       "</table>\n",
       "</div>"
      ],
      "text/plain": [
       "   PassengerId  Survived  Pclass  \\\n",
       "0            1         0       3   \n",
       "1            2         1       1   \n",
       "2            3         1       3   \n",
       "3            4         1       1   \n",
       "4            5         0       3   \n",
       "\n",
       "                                                Name     Sex   Age  SibSp  \\\n",
       "0                            Braund, Mr. Owen Harris    male  22.0      1   \n",
       "1  Cumings, Mrs. John Bradley (Florence Briggs Th...  female  38.0      1   \n",
       "2                             Heikkinen, Miss. Laina  female  26.0      0   \n",
       "3       Futrelle, Mrs. Jacques Heath (Lily May Peel)  female  35.0      1   \n",
       "4                           Allen, Mr. William Henry    male  35.0      0   \n",
       "\n",
       "   Parch            Ticket     Fare Cabin Embarked  \n",
       "0      0         A/5 21171   7.2500   NaN        S  \n",
       "1      0          PC 17599  71.2833   C85        C  \n",
       "2      0  STON/O2. 3101282   7.9250   NaN        S  \n",
       "3      0            113803  53.1000  C123        S  \n",
       "4      0            373450   8.0500   NaN        S  "
      ]
     },
     "execution_count": 8,
     "metadata": {},
     "output_type": "execute_result"
    }
   ],
   "source": [
    "df_exp.head()"
   ]
  },
  {
   "cell_type": "code",
   "execution_count": 9,
   "metadata": {},
   "outputs": [
    {
     "name": "stdout",
     "output_type": "stream",
     "text": [
      "<class 'pandas.core.frame.DataFrame'>\n",
      "RangeIndex: 891 entries, 0 to 890\n",
      "Data columns (total 12 columns):\n",
      "PassengerId    891 non-null int64\n",
      "Survived       891 non-null int64\n",
      "Pclass         891 non-null int64\n",
      "Name           891 non-null object\n",
      "Sex            891 non-null object\n",
      "Age            714 non-null float64\n",
      "SibSp          891 non-null int64\n",
      "Parch          891 non-null int64\n",
      "Ticket         891 non-null object\n",
      "Fare           891 non-null float64\n",
      "Cabin          204 non-null object\n",
      "Embarked       889 non-null object\n",
      "dtypes: float64(2), int64(5), object(5)\n",
      "memory usage: 83.6+ KB\n"
     ]
    }
   ],
   "source": [
    "# DATASET INFO DISPLAY\n",
    "df_exp.info()"
   ]
  },
  {
   "cell_type": "code",
   "execution_count": 41,
   "metadata": {},
   "outputs": [
    {
     "data": {
      "text/plain": [
       "0    549\n",
       "1    342\n",
       "Name: Survived, dtype: int64"
      ]
     },
     "execution_count": 41,
     "metadata": {},
     "output_type": "execute_result"
    }
   ],
   "source": [
    "# TARGET VARIABLE \n",
    "target = df_exp['Survived']\n",
    "df_exp['Survived'].value_counts()"
   ]
  },
  {
   "cell_type": "code",
   "execution_count": 11,
   "metadata": {
    "collapsed": true
   },
   "outputs": [],
   "source": [
    "# lIST OF VARIABLE WITH NULL VALUES\n",
    "nulls = [\"Age\", \"Cabin\", \"Embarked\"]"
   ]
  },
  {
   "cell_type": "markdown",
   "metadata": {},
   "source": [
    "### ASSESSMENT OF INDIVIDUAL ATTRIBUTE"
   ]
  },
  {
   "cell_type": "markdown",
   "metadata": {},
   "source": [
    "#### PassangerID"
   ]
  },
  {
   "cell_type": "code",
   "execution_count": 12,
   "metadata": {
    "collapsed": true
   },
   "outputs": [],
   "source": [
    "# This attribute does not seem to hold any predictive value towards the target. These are just IDs of the passengers. "
   ]
  },
  {
   "cell_type": "markdown",
   "metadata": {},
   "source": [
    "#### Pclass"
   ]
  },
  {
   "cell_type": "code",
   "execution_count": 13,
   "metadata": {},
   "outputs": [
    {
     "data": {
      "text/plain": [
       "array([3, 1, 2], dtype=int64)"
      ]
     },
     "execution_count": 13,
     "metadata": {},
     "output_type": "execute_result"
    }
   ],
   "source": [
    "df_exp['Pclass'].unique()"
   ]
  },
  {
   "cell_type": "code",
   "execution_count": 14,
   "metadata": {
    "collapsed": true
   },
   "outputs": [],
   "source": [
    "# Variable is categorical discrete and seems to be ordinal with Pclass=1 being better than Pclass=2 and then Pclass=3"
   ]
  },
  {
   "cell_type": "code",
   "execution_count": 15,
   "metadata": {},
   "outputs": [
    {
     "data": {
      "text/plain": [
       "1    216\n",
       "2    184\n",
       "3    491\n",
       "Name: Pclass, dtype: int64"
      ]
     },
     "execution_count": 15,
     "metadata": {},
     "output_type": "execute_result"
    }
   ],
   "source": [
    "df_exp['Pclass'].value_counts().sort_index()"
   ]
  },
  {
   "cell_type": "code",
   "execution_count": 16,
   "metadata": {},
   "outputs": [
    {
     "data": {
      "image/png": "iVBORw0KGgoAAAANSUhEUgAAAYUAAAEKCAYAAAD9xUlFAAAABHNCSVQICAgIfAhkiAAAAAlwSFlz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\n",
      "text/plain": [
       "<matplotlib.figure.Figure at 0x249ede09fd0>"
      ]
     },
     "metadata": {},
     "output_type": "display_data"
    }
   ],
   "source": [
    "sns.barplot(x='Pclass', y='Survived', data=df_exp)\n",
    "plt.show()"
   ]
  },
  {
   "cell_type": "code",
   "execution_count": 17,
   "metadata": {},
   "outputs": [
    {
     "data": {
      "text/plain": [
       "-0.3384810359610147"
      ]
     },
     "execution_count": 17,
     "metadata": {},
     "output_type": "execute_result"
    }
   ],
   "source": [
    "# Correlation between Pclass and target variable\n",
    "df_exp['Pclass'].corr(df_exp['Survived'])"
   ]
  },
  {
   "cell_type": "markdown",
   "metadata": {},
   "source": [
    "#### Name"
   ]
  },
  {
   "cell_type": "code",
   "execution_count": 18,
   "metadata": {
    "collapsed": true
   },
   "outputs": [],
   "source": [
    "# Like PassengerID, the name seems to be unique. There is good chance that a feature can be constructed\n",
    "# using the designations (Eg - Mr., Mrs, Miss, etc)\n",
    "# We will explore this later."
   ]
  },
  {
   "cell_type": "markdown",
   "metadata": {},
   "source": [
    "#### Sex"
   ]
  },
  {
   "cell_type": "code",
   "execution_count": 19,
   "metadata": {},
   "outputs": [
    {
     "data": {
      "text/plain": [
       "array(['male', 'female'], dtype=object)"
      ]
     },
     "execution_count": 19,
     "metadata": {},
     "output_type": "execute_result"
    }
   ],
   "source": [
    "df_exp['Sex'].unique()"
   ]
  },
  {
   "cell_type": "code",
   "execution_count": 20,
   "metadata": {
    "collapsed": true
   },
   "outputs": [],
   "source": [
    "# This variable is categorical."
   ]
  },
  {
   "cell_type": "code",
   "execution_count": 21,
   "metadata": {},
   "outputs": [
    {
     "data": {
      "text/plain": [
       "male      577\n",
       "female    314\n",
       "Name: Sex, dtype: int64"
      ]
     },
     "execution_count": 21,
     "metadata": {},
     "output_type": "execute_result"
    }
   ],
   "source": [
    "df_exp['Sex'].value_counts()"
   ]
  },
  {
   "cell_type": "code",
   "execution_count": 22,
   "metadata": {},
   "outputs": [
    {
     "data": {
      "image/png": "iVBORw0KGgoAAAANSUhEUgAAAYUAAAEKCAYAAAD9xUlFAAAABHNCSVQICAgIfAhkiAAAAAlwSFlz\nAAALEgAACxIB0t1+/AAAADl0RVh0U29mdHdhcmUAbWF0cGxvdGxpYiB2ZXJzaW9uIDIuMS4wLCBo\ndHRwOi8vbWF0cGxvdGxpYi5vcmcvpW3flQAAFAdJREFUeJzt3X+QXWd93/H3xzKKB2OgoG3NSAKp\nICAKGFwvojQpMcUQOe1YaYBEsjvBUzcapsjuhBhXFKpSEcpUdEJDIxJE6kKZgHBMmy4ZtUoChknM\nj2odjI1klGxlg1ZCzRrzwySpxdrf/nGvTi5XV7tX1h5defV+zezoPuc899zvSlf72fOce54nVYUk\nSQAXjLoASdK5w1CQJDUMBUlSw1CQJDUMBUlSw1CQJDUMBUlSw1CQJDUMBUlS48JRF3C6li1bVqtW\nrRp1GZL0hHLXXXc9WFVj8/V7woXCqlWrmJycHHUZkvSEkuTrw/Rz+EiS1DAUJEmNVkMhyfokB5NM\nJdk6YP+zk9yR5MtJ7kny023WI0maW2uhkGQJsBO4GlgLbEqytq/bO4DbqupyYCPwgbbqkSTNr80z\nhXXAVFUdqqrjwG5gQ1+fAp7affw04GiL9UiS5tHmp4+WA4d72tPAy/v6vBP4/SQ3AhcDV7VYjyRp\nHm2eKWTAtv5l3jYBH66qFcBPAx9NclJNSTYnmUwyOTMz00KpkiRoNxSmgZU97RWcPDx0A3AbQFV9\nAbgIWNZ/oKraVVXjVTU+NjbvvReSpMepzeGjfcCaJKuBI3QuJF/b1+cbwKuBDyf5UTqh4KmAdJ67\n5ZZbOHbsGJdeeik7duwYdTnnldZCoapmk2wB9gJLgFuran+S7cBkVU0Avwx8KMkv0Rlaur6q+oeY\nJJ1njh07xpEjR0Zdxnmp1WkuqmoPsKdv27aexweAH2+zBknS8LyjWZLUMBQkSQ1DQZLUMBQkSQ1D\nQZLUMBQkSQ1DQZLUMBQkSQ1DQZLUMBQkSY1Wp7mQdHq+sf3Foy7hnDD70DOAC5l96Ov+nQDP3nbv\nWXstzxQkSQ1DQZLUMBQkSQ1DQZLUMBQkSQ1DQZLUMBQkSY1WQyHJ+iQHk0wl2Tpg//uS3N39+tMk\n32mzHknS3Fq7eS3JEmAn8BpgGtiXZKK7LjMAVfVLPf1vBC5vqx5J0vzaPFNYB0xV1aGqOg7sBjbM\n0X8T8PEW65EkzaPNUFgOHO5pT3e3nSTJc4DVwGdOsX9zkskkkzMzMwteqCSpo81QyIBtdYq+G4Hb\nq+rRQTuraldVjVfV+NjY2IIVKEn6YW2GwjSwsqe9Ajh6ir4bcehIkkauzVlS9wFrkqwGjtD5wX9t\nf6ckLwD+BvCFFmuR9ASy7KLHgNnunzqbWguFqppNsgXYCywBbq2q/Um2A5NVNdHtugnYXVWnGlqS\ndJ65+TI/nT4qra6nUFV7gD1927b1td/ZZg2SpOF5R7MkqWEoSJIahoIkqWEoSJIahoIkqWEoSJIa\nhoIkqWEoSJIahoIkqWEoSJIahoIkqWEoSJIahoIkqWEoSJIahoIkqWEoSJIahoIkqdFqKCRZn+Rg\nkqkkW0/R5+eSHEiyP8nH2qxHkjS31pbjTLIE2Am8BpgG9iWZqKoDPX3WAG8Dfryqvp3kb7ZVjyRp\nfm2eKawDpqrqUFUdB3YDG/r6/CKws6q+DVBVf95iPZKkebQZCsuBwz3t6e62Xs8Hnp/kziRfTLJ+\n0IGSbE4ymWRyZmampXIlSW2GQgZsq772hcAa4EpgE/BbSZ5+0pOqdlXVeFWNj42NLXihkqSONkNh\nGljZ014BHB3Q539U1Q+q6n7gIJ2QkCSNQJuhsA9Yk2R1kqXARmCir8/vAq8CSLKMznDSoRZrkiTN\nobVQqKpZYAuwF7gPuK2q9ifZnuSabre9wLeSHADuAN5aVd9qqyZJ0txa+0gqQFXtAfb0bdvW87iA\nt3S/JEkj5h3NkqSGoSBJahgKkqSGoSBJahgKkqSGoSBJahgKkqSGoSBJahgKkqSGoSBJahgKkqSG\noSBJahgKkqSGoSBJahgKkqSGoSBJahgKkqRGq6GQZH2Sg0mmkmwdsP/6JDNJ7u5+/bM265Ekza21\n5TiTLAF2Aq8BpoF9SSaq6kBf109U1Za26pAkDa/NM4V1wFRVHaqq48BuYEOLrydJOkNthsJy4HBP\ne7q7rd/rktyT5PYkK1usR5I0jzZDIQO2VV/7U8CqqroM+EPgIwMPlGxOMplkcmZmZoHLlCSd0GYo\nTAO9v/mvAI72dqiqb1XVI93mh4ArBh2oqnZV1XhVjY+NjbVSrCSp3VDYB6xJsjrJUmAjMNHbIcmz\neprXAPe1WI8kaR5zfvooycOcPOTTqKqnzrFvNskWYC+wBLi1qvYn2Q5MVtUEcFOSa4BZ4CHg+tP/\nFiRJC2XOUKiqSwC6P8iPAR+lc63gOuCS+Q5eVXuAPX3btvU8fhvwttOuWpLUimGHj36qqj5QVQ9X\n1feq6jeA17VZmCTp7Bs2FB5Ncl2SJUkuSHId8GibhUmSzr5hQ+Fa4OeA/9v9ekN3myRpERlqmouq\negDvRpakRW+oM4Ukz0/y6SRf7bYvS/KOdkuTJJ1tww4ffYjOp4R+AFBV99C570CStIgMGwpPrqr/\n3bdtdqGLkSSN1rCh8GCS59K9kS3J64FvtlaVJGkkhl1P4c3ALuCFSY4A99O5gU2StIgMGwpfr6qr\nklwMXFBVD7dZlCRpNIYdPro/yS7g7wLfb7EeSdIIDRsKL6Cz3sGb6QTEryf5ifbKkiSNwlChUFV/\nVVW3VdXPApcDTwU+12plkqSzbuj1FJL8ZJIPAH8CXERn2gtJ0iIy1IXmJPcDdwO3AW+tqr9otSpJ\n0kgM++mjl1TV91qtRJI0cvOtvHZLVe0A3p3kpBXYquqm1iqTJJ11811TOLFm8iRw14CvOSVZn+Rg\nkqkkW+fo9/oklWR8yLolSS2YbznOT3Uf3lNVXz6dAydZAuwEXgNMA/uSTFTVgb5+lwA3AV86neNL\nkhbesJ8++tUkX0vyriQ/NuRz1gFTVXWoqo4Duxm8JsO7gB3A/xvyuJKklgx7n8KrgCuBGWBXknuH\nWE9hOXC4pz3d3dZIcjmwsqp+b+iKJUmtGfo+hao6VlXvB95E5+Op2+Z5SgYdptmZXAC8D/jl+V47\nyeYkk0kmZ2Zmhi1ZknSahl157UeTvLO78tqvA58HVszztGlgZU97BXC0p30J8CLgs0keoDOv0sSg\ni81VtauqxqtqfGxsbJiSJUmPw7D3KfwX4OPAa6vq6Hydu/YBa5KsBo7QWant2hM7q+q7wLIT7SSf\nBW6uqskhjy9JWmDznil0P0X0f6rq104jEKiqWWALsJfOR1tvq6r9SbYnueZxVyxJas28ZwpV9WiS\nZyZZ2v0U0dCqag+wp2/bwGsRVXXl6RxbkrTwhl5kB7gzyQTQzHtUVb/aSlWSpJEYNhSOdr8uoHOB\nWJK0CA0VClX1b9suRJI0esNOnX0HPfcYnFBV/2DBK5Ikjcyww0c39zy+CHgdMLvw5UiSRmnY4aP+\nGVHvTOJynJK0yAw7fPSMnuYFwDhwaSsVSZJGZtjho7v462sKs8ADwA1tFCRJGp35Vl57GXC4qlZ3\n22+kcz3hAeDAHE+VJD0BzTfNxQeB4wBJXgm8B/gI8F1gV7ulSZLOtvmGj5ZU1UPdxz8P7KqqTwKf\nTHJ3u6VJks62+c4UliQ5ERyvBj7Ts2/Y6xGSpCeI+X6wfxz4XJIHgb8C/gggyfPoDCFJkhaROUOh\nqt6d5NPAs4Dfr6oTn0C6ALix7eIkSWfXMFNnf3HAtj9tpxxJ0igNvUazJGnxMxQkSY1WQyHJ+iQH\nk0wl2Tpg/5uS3Jvk7iR/nGRtm/VIkubWWih013beCVwNrAU2Dfih/7GqenFVvRTYAbiSmySNUJtn\nCuuAqao61F3beTewobdDVX2vp3kxA9ZskCSdPW3egLYcONzTngZe3t8pyZuBtwBLARftkaQRavNM\nIQO2DVq9bWdVPRf4l8A7Bh4o2ZxkMsnkzMzMApcpSTqhzVCYBlb2tFcAR+fovxv4mUE7qmpXVY1X\n1fjY2NgClihJ6tVmKOwD1iRZnWQpsBGY6O2QZE1P8x8Cf9ZiPZKkebR2TaGqZpNsAfYCS4Bbq2p/\nku3AZFVNAFuSXAX8APg28Ma26pEkza/VmU6rag+wp2/btp7H/6LN15cknR7vaJYkNQwFSVLDUJAk\nNQwFSVLDUJAkNQwFSVLDUJAkNQwFSVLDUJAkNQwFSVLDUJAkNQwFSVLDUJAkNQwFSVLDUJAkNVpd\nT0HntltuuYVjx45x6aWXsmPHjlGXI+kcYCicx44dO8aRI0dGXYakc4jDR5KkRquhkGR9koNJppJs\nHbD/LUkOJLknyaeTPKfNeiRJc2stFJIsAXYCVwNrgU1J1vZ1+zIwXlWXAbcDDmxL0gi1eaawDpiq\nqkNVdRzYDWzo7VBVd1TVX3abXwRWtFiPJGkebYbCcuBwT3u6u+1UbgD+56AdSTYnmUwyOTMzs4Al\nSpJ6tRkKGbCtBnZM/gkwDrx30P6q2lVV41U1PjY2toAlSpJ6tfmR1GlgZU97BXC0v1OSq4C3Az9Z\nVY+0WI8kaR5thsI+YE2S1cARYCNwbW+HJJcDHwTWV9Wft1jLD7nirf/1bL3UOe2SBx9mCfCNBx/2\n7wS4672/MOoSpJFrbfioqmaBLcBe4D7gtqran2R7kmu63d4LPAX4nSR3J5loqx5J0vxavaO5qvYA\ne/q2bet5fFWbry9JOj3e0SxJahgKkqSGoSBJahgKkqSGoSBJahgKkqSGi+ycxx5bevEP/SlJhsJ5\n7C/WvHbUJUg6xzh8JElqGAqSpIahIElqGAqSpIahIElqGAqSpIahIElqGAqSpIahIElqtBoKSdYn\nOZhkKsnWAftfmeRPkswmeX2btUiS5tdaKCRZAuwErgbWApuSrO3r9g3geuBjbdUhSRpem3MfrQOm\nquoQQJLdwAbgwIkOVfVAd99jLdYhSRpSm8NHy4HDPe3p7jZJ0jmqzVDIgG31uA6UbE4ymWRyZmbm\nDMuSJJ1Km6EwDazsaa8Ajj6eA1XVrqoar6rxsbGxBSlOknSyNkNhH7AmyeokS4GNwESLrydJOkOt\nhUJVzQJbgL3AfcBtVbU/yfYk1wAkeVmSaeANwAeT7G+rHknS/Fpdea2q9gB7+rZt63m8j86wkiTp\nHOAdzZKkhqEgSWoYCpKkhqEgSWoYCpKkhqEgSWoYCpKkhqEgSWoYCpKkhqEgSWoYCpKkhqEgSWoY\nCpKkhqEgSWoYCpKkhqEgSWoYCpKkRquhkGR9koNJppJsHbD/R5J8orv/S0lWtVmPJGlurYVCkiXA\nTuBqYC2wKcnavm43AN+uqucB7wP+fVv1SJLm1+aZwjpgqqoOVdVxYDewoa/PBuAj3ce3A69OkhZr\nkiTNoc1QWA4c7mlPd7cN7FNVs8B3gWe2WJMkaQ4XtnjsQb/x1+PoQ5LNwOZu8/tJDp5hbfpry4AH\nR13EuSD/4Y2jLkE/zPfmCf9mQQZQnjNMpzZDYRpY2dNeARw9RZ/pJBcCTwMe6j9QVe0CdrVU53kt\nyWRVjY+6Dqmf783RaHP4aB+wJsnqJEuBjcBEX58J4MSvZ68HPlNVJ50pSJLOjtbOFKpqNskWYC+w\nBLi1qvYn2Q5MVtUE8J+BjyaZonOGsLGteiRJ84u/mJ/fkmzuDs9J5xTfm6NhKEiSGk5zIUlqGApq\nJLkyye+Nug4tDkluSnJfkt9u6fjvTHJzG8c+n7X5kVRJ57d/DlxdVfePuhANzzOFRSbJqiRfS/Jb\nSb6a5LeTXJXkziR/lmRd9+vzSb7c/fMFA45zcZJbk+zr9uufokQ6pSS/CfxtYCLJ2we9l5Jcn+R3\nk3wqyf1JtiR5S7fPF5M8o9vvF7vP/UqSTyZ58oDXe26S/5XkriR/lOSFZ/c7XjwMhcXpecCvAZcB\nLwSuBX4CuBn4V8DXgFdW1eXANuDfDTjG2+ncN/Iy4FXAe5NcfBZq1yJQVW+ic7Pqq4CLOfV76UV0\n3p/rgHcDf9l9X34B+IVun/9WVS+rqpcA99GZSLPfLuDGqrqCzvv8A+18Z4ufw0eL0/1VdS9Akv3A\np6uqktwLrKJz5/hHkqyhM63IkwYc47XANT1jthcBz6bzn1I6Had6LwHcUVUPAw8n+S7wqe72e+n8\nUgPwoiS/AjwdeAqde58aSZ4C/D3gd3rm0/yRNr6R84GhsDg90vP4sZ72Y3T+zd9F5z/jP+6uYfHZ\nAccI8Lqqcp4pnamB76UkL2f+9yrAh4GfqaqvJLkeuLLv+BcA36mqly5s2ecnh4/OT08DjnQfX3+K\nPnuBG09MZZ7k8rNQlxanM30vXQJ8M8mTgOv6d1bV94D7k7yhe/wkeckZ1nzeMhTOTzuA9yS5k84U\nJIO8i86w0j1JvtptS4/Hmb6X/jXwJeAP6FwPG+Q64IYkXwH2c/LaLRqSdzRLkhqeKUiSGoaCJKlh\nKEiSGoaCJKlhKEiSGoaCdBq68/jsT3JPkru7N2BJi4Z3NEtDSvIK4B8Bf6eqHkmyDFg64rKkBeWZ\ngjS8ZwEPVtUjAFX1YFUdTXJFks91Z+jcm+RZSS7szux5JUCS9yR59yiLl4bhzWvSkLoTr/0x8GTg\nD4FPAJ8HPgdsqKqZJD8P/FRV/dMkPwbcDtxE5y7yl1fV8dFULw3H4SNpSFX1/SRXAH+fzhTQnwB+\nhc70z3/QndpnCfDNbv/9ST5KZ+bPVxgIeiIwFKTTUFWP0plV9rPdqcjfDOyvqlec4ikvBr4D/K2z\nU6F0ZrymIA0pyQu6a1Cc8FI660uMdS9Ck+RJ3WEjkvws8EzglcD7kzz9bNcsnS6vKUhD6g4d/Sc6\ni73MAlPAZmAF8H46U5JfCPxH4L/Tud7w6qo6nOQm4IqqeuMoapeGZShIkhoOH0mSGoaCJKlhKEiS\nGoaCJKlhKEiSGoaCJKlhKEiSGoaCJKnx/wHom2aviiXgQQAAAABJRU5ErkJggg==\n",
      "text/plain": [
       "<matplotlib.figure.Figure at 0x249edebc438>"
      ]
     },
     "metadata": {},
     "output_type": "display_data"
    }
   ],
   "source": [
    "sns.barplot(x='Sex', y='Survived', data=df_exp)\n",
    "plt.show()"
   ]
  },
  {
   "cell_type": "code",
   "execution_count": 23,
   "metadata": {
    "scrolled": true
   },
   "outputs": [],
   "source": [
    "# The above shows that the proportion of females that survived were much more than the males.\n",
    "# So the chances of survival if you are a female would go up compared to if you are a male. "
   ]
  },
  {
   "cell_type": "markdown",
   "metadata": {},
   "source": [
    "#### Age"
   ]
  },
  {
   "cell_type": "code",
   "execution_count": 24,
   "metadata": {},
   "outputs": [
    {
     "data": {
      "text/plain": [
       "count    714.000000\n",
       "mean      29.699118\n",
       "std       14.526497\n",
       "min        0.420000\n",
       "25%       20.125000\n",
       "50%       28.000000\n",
       "75%       38.000000\n",
       "max       80.000000\n",
       "Name: Age, dtype: float64"
      ]
     },
     "execution_count": 24,
     "metadata": {},
     "output_type": "execute_result"
    }
   ],
   "source": [
    "df_exp['Age'].describe()"
   ]
  },
  {
   "cell_type": "code",
   "execution_count": 26,
   "metadata": {
    "collapsed": true
   },
   "outputs": [],
   "source": [
    "# This variable is continous. "
   ]
  },
  {
   "cell_type": "code",
   "execution_count": 35,
   "metadata": {},
   "outputs": [
    {
     "data": {
      "image/png": "iVBORw0KGgoAAAANSUhEUgAAAYQAAAEKCAYAAAASByJ7AAAABHNCSVQICAgIfAhkiAAAAAlwSFlz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\nxjgsIRhjjAHg/wdD+T7BVHd30AAAAABJRU5ErkJggg==\n",
      "text/plain": [
       "<matplotlib.figure.Figure at 0x249eeb82cc0>"
      ]
     },
     "metadata": {},
     "output_type": "display_data"
    }
   ],
   "source": [
    "# df_exp['Age'].hist(bins=30, edgecolor='b')\n",
    "sns.distplot(df_exp[df_exp['Age'].notnull()]['Age'], bins=30)\n",
    "plt.show()"
   ]
  },
  {
   "cell_type": "code",
   "execution_count": 40,
   "metadata": {},
   "outputs": [
    {
     "data": {
      "image/png": "iVBORw0KGgoAAAANSUhEUgAAAYIAAAEKCAYAAAAfGVI8AAAABHNCSVQICAgIfAhkiAAAAAlwSFlz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\nAAAASUVORK5CYII=\n",
      "text/plain": [
       "<matplotlib.figure.Figure at 0x249eebb4710>"
      ]
     },
     "metadata": {},
     "output_type": "display_data"
    }
   ],
   "source": [
    "sns.boxplot(x='Survived', y='Age', data=df_exp)\n",
    "# sns.swarmplot(x='Survived', y='Age', data=df_exp)\n",
    "plt.show()"
   ]
  },
  {
   "cell_type": "code",
   "execution_count": 54,
   "metadata": {},
   "outputs": [
    {
     "data": {
      "image/png": "iVBORw0KGgoAAAANSUhEUgAAAYQAAAEKCAYAAAASByJ7AAAABHNCSVQICAgIfAhkiAAAAAlwSFlz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\n",
      "text/plain": [
       "<matplotlib.figure.Figure at 0x249eeb037b8>"
      ]
     },
     "metadata": {},
     "output_type": "display_data"
    }
   ],
   "source": [
    "fltr1 = (df_exp['Survived']==1)\n",
    "fltr2 = (df_exp['Survived']==0)\n",
    "sns.distplot(df_exp[fltr1 & df_exp['Age'].notnull()]['Age'], label='Survived')\n",
    "sns.distplot(df_exp[fltr2 & df_exp['Age'].notnull()]['Age'], label='Died')\n",
    "plt.legend()\n",
    "plt.show()"
   ]
  },
  {
   "cell_type": "code",
   "execution_count": 53,
   "metadata": {
    "collapsed": true
   },
   "outputs": [],
   "source": [
    "# Takeaways\n",
    "# The age distribution for 'Survived' and 'Died' look very similar.\n",
    "# From the 'Survived' histogram it seems that chances of survival are higher if the passenger is in the infant to toddler ages.\n",
    "# It would be good to discretize this variable based on the histograms above. "
   ]
  },
  {
   "cell_type": "markdown",
   "metadata": {},
   "source": [
    "#### SibSp"
   ]
  },
  {
   "cell_type": "code",
   "execution_count": 55,
   "metadata": {},
   "outputs": [
    {
     "data": {
      "text/plain": [
       "count    891.000000\n",
       "mean       0.523008\n",
       "std        1.102743\n",
       "min        0.000000\n",
       "25%        0.000000\n",
       "50%        0.000000\n",
       "75%        1.000000\n",
       "max        8.000000\n",
       "Name: SibSp, dtype: float64"
      ]
     },
     "execution_count": 55,
     "metadata": {},
     "output_type": "execute_result"
    }
   ],
   "source": [
    "df_exp['SibSp'].describe()"
   ]
  },
  {
   "cell_type": "code",
   "execution_count": 56,
   "metadata": {},
   "outputs": [
    {
     "data": {
      "text/plain": [
       "array([1, 0, 3, 4, 2, 5, 8], dtype=int64)"
      ]
     },
     "execution_count": 56,
     "metadata": {},
     "output_type": "execute_result"
    }
   ],
   "source": [
    "df_exp['SibSp'].unique()"
   ]
  },
  {
   "cell_type": "code",
   "execution_count": 57,
   "metadata": {
    "collapsed": true
   },
   "outputs": [],
   "source": [
    "# This is a discrete variable"
   ]
  },
  {
   "cell_type": "code",
<<<<<<< HEAD
   "execution_count": 68,
=======
   "execution_count": 65,
   "metadata": {},
   "outputs": [
    {
     "data": {
      "text/plain": [
       "0    608\n",
       "1    209\n",
       "2     28\n",
       "3     16\n",
       "4     18\n",
       "5      5\n",
       "8      7\n",
       "Name: SibSp, dtype: int64"
      ]
     },
     "execution_count": 65,
     "metadata": {},
     "output_type": "execute_result"
    }
   ],
   "source": [
    "df_exp['SibSp'].value_counts().sort_index()"
   ]
  },
  {
   "cell_type": "code",
   "execution_count": 58,
   "metadata": {},
   "outputs": [
    {
     "data": {
      "image/png": "iVBORw0KGgoAAAANSUhEUgAAARgAAAEYCAYAAACHjumMAAAABHNCSVQICAgIfAhkiAAAAAlwSFlz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\nAAAASUVORK5CYII=\n",
      "text/plain": [
       "<matplotlib.figure.Figure at 0x249ede303c8>"
      ]
     },
     "metadata": {},
     "output_type": "display_data"
    }
   ],
   "source": [
    "sns.factorplot(x='SibSp', y='Survived', data=df_exp)\n",
    "plt.show()"
   ]
  },
  {
   "cell_type": "code",
   "execution_count": 60,
   "metadata": {},
   "outputs": [
    {
     "data": {
      "image/png": "iVBORw0KGgoAAAANSUhEUgAAAYUAAAEKCAYAAAD9xUlFAAAABHNCSVQICAgIfAhkiAAAAAlwSFlz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\n",
      "text/plain": [
       "<matplotlib.figure.Figure at 0x249eeef9160>"
      ]
     },
     "metadata": {},
     "output_type": "display_data"
    }
   ],
   "source": [
    "sns.barplot(x='SibSp', y='Survived', data=df_exp)\n",
    "plt.show()"
   ]
  },
  {
   "cell_type": "code",
   "execution_count": 61,
   "metadata": {},
   "outputs": [
    {
     "data": {
      "text/plain": [
       "-0.035322498885735583"
      ]
     },
     "execution_count": 61,
     "metadata": {},
     "output_type": "execute_result"
    }
   ],
   "source": [
    "df_exp['SibSp'].corr(df_exp['Survived'])"
   ]
  },
  {
   "cell_type": "markdown",
   "metadata": {},
   "source": [
    "#### Parch"
   ]
  },
  {
   "cell_type": "code",
   "execution_count": 62,
   "metadata": {},
   "outputs": [
    {
     "data": {
      "text/plain": [
       "count    891.000000\n",
       "mean       0.381594\n",
       "std        0.806057\n",
       "min        0.000000\n",
       "25%        0.000000\n",
       "50%        0.000000\n",
       "75%        0.000000\n",
       "max        6.000000\n",
       "Name: Parch, dtype: float64"
      ]
     },
     "execution_count": 62,
     "metadata": {},
     "output_type": "execute_result"
    }
   ],
   "source": [
    "df_exp['Parch'].describe()"
   ]
  },
  {
   "cell_type": "code",
   "execution_count": 63,
   "metadata": {},
   "outputs": [
    {
     "data": {
      "text/plain": [
       "array([0, 1, 2, 5, 3, 4, 6], dtype=int64)"
      ]
     },
     "execution_count": 63,
     "metadata": {},
     "output_type": "execute_result"
    }
   ],
   "source": [
    "df_exp['Parch'].unique()"
   ]
  },
  {
   "cell_type": "code",
   "execution_count": 66,
>>>>>>> f477a11f7afee82963c458d1185012d5b709863b
   "metadata": {
    "collapsed": true
   },
   "outputs": [],
   "source": [
    "# This is a discrete variable"
   ]
  },
  {
   "cell_type": "code",
   "execution_count": 69,
   "metadata": {},
   "outputs": [
    {
     "data": {
      "text/plain": [
       "0    678\n",
       "1    118\n",
       "2     80\n",
       "3      5\n",
       "4      4\n",
       "5      5\n",
       "6      1\n",
       "Name: Parch, dtype: int64"
      ]
     },
     "execution_count": 69,
     "metadata": {},
     "output_type": "execute_result"
    }
   ],
   "source": [
    "df_exp['Parch'].value_counts().sort_index()"
   ]
  },
  {
   "cell_type": "code",
   "execution_count": 70,
   "metadata": {},
   "outputs": [
    {
     "data": {
      "image/png": "iVBORw0KGgoAAAANSUhEUgAAARgAAAEYCAYAAACHjumMAAAABHNCSVQICAgIfAhkiAAAAAlwSFlz\nAAALEgAACxIB0t1+/AAAADl0RVh0U29mdHdhcmUAbWF0cGxvdGxpYiB2ZXJzaW9uIDIuMS4wLCBo\ndHRwOi8vbWF0cGxvdGxpYi5vcmcvpW3flQAAIABJREFUeJzt3Xl4VeXV9/HvSkISSMIcIMyjIKNg\nAIUO2loLVKFW2yrWTrY+tmrb16rV9qltHdrHoba1ooVWq1LFUq2KlgIO4MAks0AgGEKQyJCEBEgg\nc9b7x9kJJyEkh5D7TFmf68rlGXbOXmD4Ze97r33foqoYY4wLMaEuwBgTvSxgjDHOWMAYY5yxgDHG\nOGMBY4xxxgLGGOOMBYwxxhkLGGOMMxYwxhhn4kJdwJmaNm2aLlmyJNRlGNPWSSAbRdwRTEFBQahL\nMMYEKOICxhgTOSxgjDHOWMAYY5yxgDHGOGMBY4xxxlnAiMhTIpInIttO876IyKMikiUiH4rIBFe1\nGGNCw+URzNPAtCbenw4M875uAJ5wWIsxJgScNdqp6rsiMrCJTWYBz6pvzs41ItJZRNJU9YCrmkzo\nXffkWnKLSunbpT3zr58c6nKMY6Hs5O0D7PN7nuu9dkrAiMgN+I5y6N+/f1CKM27kFpWyp+B4qMsw\nQRLKQd7GWo0bnYFcVeeparqqpqempjouyxjTWkIZMLlAP7/nfYH9IarFGONAKANmEfBN72rSBcBR\nG38xJro4G4MRkQXARUB3EckFfgW0A1DVvwCLgRlAFnAC+I6rWowxoeHyKtI1zbyvwE2u9m+MCT3r\n5DXGOGMBY4xxxgLGGOOMBYwxxhkLGGOMMxYwxhhnLGCMMc5YwBhjnLGAMcY4YwFjjHHGAsYY44wF\njDHGGQsYY4wzFjDGGGcsYIwxzljAGGOcsYAxxjhjAWOMccYCxhjjjAWMMcYZCxhjjDMWMMYYZyxg\njDHOWMAYY5yxgDHGOGMBY4xxxgLGGOOMBYwxxhkLGGOMMxYwxhhnLGCMMc5YwBhjnLGAMcY44zRg\nRGSaiGSKSJaI3NnI+/1FZLmIbBKRD0Vkhst6jDHB5SxgRCQWmANMB0YC14jIyAab/S+wUFXHA1cD\nj7uqxxgTfC6PYCYBWaqaraoVwAvArAbbKNDRe9wJ2O+wHmNMkLkMmD7APr/nud5r/n4NfENEcoHF\nwC2NfZCI3CAi60VkfX5+votajTEOuAwYaeQ1bfD8GuBpVe0LzADmi8gpNanqPFVNV9X01NRUB6Ua\nY1xwGTC5QD+/53059RToemAhgKquBhKB7g5rMsYEkcuAWQcME5FBIhKPbxB3UYNtPgY+DyAi5+IL\nGDsHMiZKOAsYVa0CbgaWAjvwXS3aLiL3iMhMb7OfAt8XkS3AAuDbqtrwNMoYE6HiXH64qi7GN3jr\n/9rdfo8zgKkuazDGhI518hpjnLGAMcY4YwFjjHHGAsYY44wFjDHGGQsYY4wzFjDGGGcsYIwxzljA\nGGOcsYAxxjhjAWOMccYCxhjjjAWMMcYZCxhjjDMWMMYYZyxgjDHOWMAYY5yxgDHGOGMBY4xxxgLG\nGOOMBYwxxhkLGGOMMxYwxhhnLGCMMc5YwBhjnLGAMcY4YwFjjHHG6drU5lTXPbmW3KJS+nZpz/zr\nJ4e6HGOcsoAJstyiUvYUHA91GcYEhZ0iGWOcsYAxxjhjAWOCYv+RUu7/Twa5RScAyC8uZ8eBYyGu\nyrjmNGBEZJqIZIpIlojceZptviYiGSKyXUSed1mPCY3Mg8V86dH3+Ot7e6isVgBKyquY+dj7vLXj\nUIirMy45CxgRiQXmANOBkcA1IjKywTbDgLuAqao6CviJq3pMaKgqt7+4haITlae8V1mt/HThFkor\nqkNQmQkGl0cwk4AsVc1W1QrgBWBWg22+D8xR1SIAVc1zWI8JgZ0Hi/kw9+hp3z9SWsmyjINBrMgE\nk8vL1H2AfX7Pc4GGjR/nAIjISiAW+LWqLnFYU5sX7D6c/UdKm93mkwC2iSZtqRfKZcBII69pI/sf\nBlwE9AXeE5HRqnqk3geJ3ADcANC/f//Wr7QNCXYfTlllTbPb9O7UPgiVhI+21Avl8hQpF+jn97wv\nsL+RbV5V1UpV3QNk4gucelR1nqqmq2p6amqqs4JN6ymvqub3yzL58QubmtyuU/t2fHFUryBVZYLN\nZcCsA4aJyCARiQeuBhY12OYV4GIAEemO75Qp22FNJgjW5xQy40/v8ee3s6iq8R20xsacekAbI/DQ\nVWNpHx8b7BJNkDg7RVLVKhG5GViKb3zlKVXdLiL3AOtVdZH33qUikgFUA7er6mFXNRm3issqeXBJ\nJvPX7K17LSk+lp9NH8FFw1N5euVenlmVQ7X6Quer5/fjUjt6iWpNBoyIFHPquEkdVe3Y1Per6mJg\ncYPX7vZ7rMCt3peJYG/vPMQvXt7GgaNlda9dPDyV+64YQ5/OvjGWuy8fyVs7D7H3sK/Z7qO84pDU\naoKnyYBR1RQA76jjIDAf3+DttUCK8+qiyK5DxSxct49Dx3z/ACuqmh/8jAQFJeX85rUMXttycnit\na1I8v7p8JDPH9Uak/qlRjN/zLblHKS6rJCWxXdDqNcEV6CnSF1XV/3raEyKyFnjQQU1R54kVu3lg\nyc56r31ypJTH3v6Imz93yph2RFBVXt70Cfe+nlGvie6K8X345WUj6ZoU3+xnVNco63IK+dyIni5L\nNSEUaMBUi8i1+JrlFLgG35iJacb7HxWcEi61Hl62i9F9OnHR8B5Brurs5Bad4Ocvb+PdXfl1r/Xp\n3J77rxh9xn+WVVmHLWCiWKABMxv4k/elwErvNdOMp1flNPn+M6tyIiZgqmuUZ1bl8PCyTE547f0i\n8K0LB3L7F4eTlBD4NQPB+0HabWP60SygnwhVzeHUNn8TgObuGN6wt4iCknK6JycEqaKW2XWomDte\n/JDN+072QJ7TM5n/u3IsE/p3OePPS2wXS2llNTsOHKPweEVAp1Qm8gTUByMi54jIWyKyzXs+VkT+\n121p0aFj+6YHMI+VVTHp/je5et5qnlmVUzcIHC7Kq6p55I1dfOnR9+rCpV2s8P8uOYfXb/l0i8IF\nILHdyR+9Ndl2FBOtAj2m/StwOzAXQFU/9KZWuM9VYdHi8nFpzR7F1CisyS5kTXYhv35tO+f378L0\nMWlMG92r7hJvKGzYW8jPXtpKVl5J3WsT+nfmgSvHMqzn2V1EbN8uliJ8g8MrswqYMSbtrD7PhKdA\nA6aDqn7Q4JJjlYN6os6Q1OTTvjegWwe+lt6Pt3fmsWFvEQCqsH5vEev3FnHv6xmM69eZGaN7MX10\nGv27dQhKzSXlVTy0ZCfPrtmL1xNHUnwsd0wbwXUXDCCmka7cMxUfF0PHxDiOlVWx2sZholagAVMg\nIkPwmu5E5CrggLOqosTBo2Xc9e+tdc/jY4UKb8KllIQ4Xv7hVLomxXPTxUM5eLSMpdsPsnjrAT7I\nKaz7h71l3xG27DvC7/67k1G9OzJjTBrTR/dicBPBdTaW78zjFy9vZb9fw9xFw1O5369hrjWICBcM\n7sayjENkFxznwNFS0trYTY9tQaABcxMwDxghIp8Ae/A125nTqKqu4UcLNlF4vAKAqyf24zezRnHJ\nI++wr7CU7ikJ9QY2e3VK5FtTBvKtKQPJLy5nWcZB/rv1IKuzD1Pt3c+zff8xtu8/xkNLMxneM4Xp\nY3oxY0waw3okn9LQdqYOl5Rzz+sZvLo5sIa51jB1aHeWZfhmtFuVdZgrz+/b6vswoRVowOxV1UtE\nJAmIUVXr8W7GH97cxQc5hQCM6JXCr2eOIiEulriY5sfVU1MSuHbyAK6dPIDC4xW8mXGIxdsOsDKr\noG7KycxDxWQeKuaPb37EkNQkpo9OY/qYXoxM63jaMKiuUaqq63cQqyqvbP6Ee15recNcS00Z0q3u\n8ardFjDRKNCA2SMiS4B/Am87rCcqrMjMY87y3QB0iI/lsdkTSGzXsjuGuybF87WJ/fjaxH4cLa3k\nrR2HWLz1IO9+lF93u8Hu/OM8tjyLx5ZnMaBbB6aN7sWM0WmM7dsJEaGmRvnb+9k89X4OB72rVAeO\nlrJ0+wEWfLCPFZn1G+buu2I0FwehN2doj2RSUxLILy5n9e4CVNXJkZIJnUADZjhwOb5TpSdF5HXg\nBVV931llEerA0VJuXbil7vlvrxjD0B6tM17SqX07vjKhL1+Z0Jfiskre3pnHkm0HWZ6ZVzex097D\nJ5j7TjZz38mmT+f2TBvdi48LT/BGRv3Jtcsqa/if+Rvrntc2zN32xeEkn0HD3NkQEaYM6carm/ez\n/2gZOYdPMKh7UlD2bYIj0Ea7UmAhsFBEuuDr6H0H3zQMxtNw3OWaSf348vg+TvaVktiOWef1YdZ5\nfThRUcWKzHwWbz3A2zvz6rpsPzlSypPv72n2s4b18DXMnT+gZT0tZ6M2YABW7S6wgIkyAf+qEpHP\nAl/Ht0rAOuBrroqKVI+8sYt1Ob7LzSN6pfCry0cFZb8d4uOYMSaNGWPSKKus5t1d+fx320HezDhE\ncXnz3QTzvpkesn/YU4Z0r3u8Kusw104eEJI6jBsBBYyI7AE24zuKuV1V28aEomdgRWYej684Oe4y\n59qWj7ucjcR2sVw6qheXjupFeVU1N87fwHK/MZbGlFeF7r7Vfl070K9re/YVlrI6+zA1NdoqfTYm\nPAQ6ZeY4Vb1CVRdYuJyqsXGXphrsgiUhLpYvjGx6xrik+Fj6dQlOA9/pTBnsO4opPF5B5iG7QBlN\nmgwYEbnDe3i/iDza8CsI9YW9YI67tMTM83rTpcPp74f6anq/M7oL2oUpQ09erl6ZVRDCSkxra+4I\nZof33/XAhka+2rxQjbsEKjkhjr9+M51Ojdx0+elh3blz+ogQVFXfhX79MHbbQHRpbsrM17yHH6pq\n0+tPtEHLw2TcpTnpA7vyzu0X8eKGXP7wxi6OV1TTs2MCz3xnUliMd/RISWRYj2Q+yith7Z5Cqqpr\niIt1umy6CZJA/y8+IiI7ReReEQmvX9EhcuBoKbf+c3Pd8999JTzGXU6nc4d4vvfpwfTomAj4rjyF\nQ7jUqu3qLSmv4sNPTr/UrIksAQWMql6Mb/XFfGCeiGxty/PBVFXXcMvzm+pa66+Z1J9Z54XPuEsk\nmjL05OVqO02KHgEfh6rqQVV9FLgR3yXru5v5lqj1+zd2sX6v/7jLyBBXFPkuGNSN2rsEVu22gd5o\nEeiMdueKyK+9Ge0eA1bhWwq2zVmemccT3rhLUhiPu0SaTh3aMbp3JwDW5xRRVmlzykeDQI9g/g4U\nAZeq6mdV9QlVzXNYV1hqOO7y2zAfd4k0tZery6tq2PhxUYirMa2h2YARkVhgt6r+SVUbLl7fZrTW\nuEvfLu0Z1D2Jvl1scqWG/G8bsHGY6NBsh5WqVotINxGJV9WKYBQVjh5e1jrjLvOvn9z8Rm3UxIFd\naBcrVFYrK7MK+Omlw0NdkjlLAU84BawUkUVA3a0CqvqIk6rCzPKdefzlHRt3ca1DfBzj+3Xhg5xC\ntuQepaS8KmhTRxg3Ah2D2Q+87m2f4vcV9fYfKeXWhTbuEiy1Xb3VNcq6PYUhrsacrUDng/mN60LC\nUWV1DbcsODnuMnuy9bu4NmVIN/701keA776ki0dExqqXpnGBTtewHG9FAX+q+rlWryiM/H7Zrrrl\nRM5N68jdl1m/i2vj+3chsV0MZZU1rLKB3ogX6AnubX6PE4ErifJ1kU4Zd5k93sZdgiA+LoaJA7vy\n3kcFZBw4RtHxCrrYsrIRK9BbBTb4fa1U1VuBqL0c0ti4i6t1iMyp6l2utmVlI1qgnbxd/b66i8g0\noOmZjHzfN01EMkUkS0TubGK7q0RERST9DGp3wsZdQm/qUP/lTOy2gUgW6CnSBk6OwVQBOcD1TX2D\n16A3B/gCkAusE5FFqprRYLsU4EfA2sDLdufhZZk27hJio3p3IiUxjuKyKhuHiXDNzWg3UUR6qeog\nVR0M/AbY6X1lNPW9wCQgS1WzvQa9F4BZjWx3L/AgUNbIe0H19s5DzH0nG7Bxl1CKjfEtKwuQnX+c\ng0dD/qNhWqi5U6S5QAWAiHwG+B3wDHAU31KyTekD7PN7nuu9VkdExgP9VPX1pj5IRG4QkfUisj4/\nv+kJrFvKN+7iN6+ujbuE1NQhdpoUDZoLmFhVre12+jowT1VfUtVfAkOb+d7GZjOqu9QtIjHAH4Cf\nNlekqs5T1XRVTU9NTW1u8zNWO+5yxMZdwob//DB2mhS5mg0YEakdp/k89ZeNbW78Jhfo5/e8L76O\n4FopwGhghYjkABcAi0Ix0GvjLuFnWI9kuicnALAqy7esrIk8zQXMAuAdEXkVKAXeAxCRofhOk5qy\nDhgmIoNEJB64GlhU+6aqHlXV7qo6UFUHAmuAmaq6vmV/lOZd9+RaLn54Bdc9eXI8ueG4y+N2n1FY\nqF1WFmD/0TL2Hj4R4opMSzQZMKp6P75TmKeBT+nJXyMxwC3NfG8VcDOwFN/qBAtVdbuI3CMiM8+2\n8JbILSplT8FxcotKgVPHXX535dioX7o0kqaLmFJvHMZOkyJRINM1rGnktV2BfLiqLgYWN3it0ak2\nVfWiQD6ztTQcd7l2cn9mjusdzBJCIpKmi/BvuFu5u4DZk/uHsBrTEm12bYiHl9Yfd/mljbuEnf7d\nOtQdaa3Z7VtW1kSWNhEwqsqqrAIKSsoBKCguZ+67Nu4SCWpPkw4fr2BXni0rG2miPmDKq6r5/rPr\nmf23tRSX+e7PLC4/eZ9mWxh3iWT1TpOybBwm0kR9wDyybBdv7mh8fvL42BguHt76fTWm9Uypt6ys\nNdxFmqgOmLLKap5b+/Fp36+oruGVzW12HvOI0KNjIkN7+Dqq12b7lpU1kSOqAya36AQl5U1PW5Ox\n/1iQqjEtVXsUU1xexVZbVjaiRHXAJCe0a3ablESbVDrc+Y/DWD9MZInqgOnVKZHzB3RpcpvLxqYF\nqRrTUhcM7lq3rKytlxRZojpgAH4+41wS4hr/Y145oS9j+3YOckXmTHXuEM+o3h0BWJdTaMvKRpCo\nD5jzB3ThhRsuqHc1IlaE2y49hwevGhvCysyZmOqdJpVX1bDp4yMhrsYEKuoDBnwz1T///Qvo37UD\nAP26tufmzw0jNqaxGSVMOLrQLldHpDYRMLVqA0XEgiXSTBzYlTjv/99KG4eJGG0qYEzkSkqIY3x/\n33jZln1Hmm0/MOHBAsZEjAu9cZgqW1Y2YrSpgImkuVDMqabYPL0Rp011mUXSXCjmVOP7d7ZlZSNM\nmzqCMZEtIS6WiQO7AtQtK2vCmwWMiSi1l6tVYY0tKxv2LGBMRJlq9yVFFAsYE1FG9e5Yd4PqShvo\nDXsWMCaixMXGMHmQLSsbKSxgTMSZOtTvtoFsO4oJZxYwJuLYPL2RwwLGRJxzeibTPTke8M0PY8vK\nhi8LGBNxRKTutoFPjpTycaEtKxuuLGBMRPK/bcBOk8KXBYyJSPX7YWygN1xZwJiI1K9re/p09t20\nauMw4csCxkQkEam3rGzmIVtWNhxZwJiINXWo32mSjcOEJQsYE7EurDc/jAVMOLKAMRGrZ8dEhqQm\nAbA2+3DYLyu7PqeQn7ywiU+KSgEoLqukoiq8az5bTgNGRKaJSKaIZInInY28f6uIZIjIhyLylogM\ncFmPiT61p0nF5VVsC+NlgOe9u5ur/rKaVzbvp8ILwoKSCr751NqoXufJWcCISCwwB5gOjASuEZGR\nDTbbBKSr6ljgReBBV/WY6BQJ02hm7D/GbxfvbPS9NdmFPL48K8gVBY/LI5hJQJaqZqtqBfACMMt/\nA1Vdrqq1bZhrgL4O6zFR6ILB3eqWlQ3Xgd4FH3zc5PvPf7Avai+zuwyYPsA+v+e53muncz3wX4f1\nmCjUcFnZ8qrwO93Y28ytDAUl5ZyoCL+6W4PLgGlsdbNGY1pEvgGkAw+d5v0bRGS9iKzPz89vxRJN\nNJgS5svK9khJaPL95IQ4EtvFBqma4HIZMLlAP7/nfYH9DTcSkUuAXwAzVbW8sQ9S1Xmqmq6q6amp\nqU6KNcHhYumYepers8JvHObKCU2f+V8+Li1qlzF2uWzJOmCYiAwCPgGuBmb7byAi44G5wDRVzXNY\niwkTLpaOmeQtK1tVo6zafZhbW30PZ6foRKO/N+sUHq9AVaNySWNnRzCqWgXcDCwFdgALVXW7iNwj\nIjO9zR4CkoF/ichmEVnkqh4TvZIS4jivn29Z2c37jnA8jJaV3Z1fwh0vbq173r9rh7qxg9r/Lt1+\niGdW5QS7tKBw2gejqotV9RxVHaKq93uv3a2qi7zHl6hqT1U9z/ua2fQnGtO42svVVTXKBznhsazs\n8fIqbpy/oW4d7e9/ehDv3nExA7v7mgN7dUokzjs1uu8/O9iwNzzqbk3WyWuiwhS/+5JWh8FtA6rK\nnf/eykd5JQBMGtSVn00bUW+bxHax3DXjXMAXjD98biP5xU2fTkUaCxgTFcb370xCnO/HORwa7p5e\nlcNrW3zXNHqkJPDY7PHExZ76z+27Uwdy2dg0AA4dK+eWBRvD/paHM2EBY6KC/7Ky2/cf48iJ0C0r\nuz6nkPv/swOAuBhhzrUT6JGS2Oi2IsIDV45laI9kwNfZ+9CyzKDV6poFjIkaU4aGflnZ/OJybnp+\nI1U1vpavu2acWxd8p5OUEMdfvnE+SfG+Xpi572SzZNtB57UGgwWMiRpTQrysbFV1Dbcs2MihY75x\nlMvGpvHdqQMD+t6hPZJ56Kvj6p7f9q8tZOeXuCgzqCxgTNQY3bsjKQnesrIhaLh7aGkma7J9V4KG\n9kjmgSvHnlFvy4wxaXzvU4MAKCmv4gf/2MiJivC55N4SFjAmasTFxjB5sO80aXf+cQ4dC96ysku2\nHWDuu9kAJMXH+k55Es68j/Vn00cwyTulyjxUzF3/3hrRN0JawJio4j99Q7AuV+/OL+G2f31Y9/yh\nr46rG7Q9U+1iY3hs9nhSvfuXXt28n2dX722VOkPBAsZElSlD/ddLcn+adKKiih/842Qz3fc+NYgZ\nY9LO6jN7dExkzuwJdfcn3fefDDbsLTrrWkPBAsZEleE9U+iW5FtWdpXj5UxUlTtf2squQ14z3cCu\n/Gz6iGa+KzCTBnXlLu+zKquVHz63ISKb8CxgTFTxLSvrO4r55Egp+wpLne3rmVU5LPKa6VK9Zrp2\njTTTtdT1nxrElyK8Cc8CxkQd/8vVKx119W7YW8h9XjNdbIwwZ/YEenRsvJmupWqb8GonNo/EJjwL\nGBN1pg51u5xJfnE5P3zOr5lu+ggmDWq6ma6lkhPimHtd5DbhWcCYqNO/awe/ZWULWnUcpmEz3ZfG\npnG917viytAeKTx4VWQ24VnAmKjjPw5TUFJRNwjbGvyb6YakJp1xM11L+QdZJDXhWcCYqFT/NKl1\nxmEaNtPNve58klvQTNdSd04fwcSBXYDIacKzgDFR6cLBfgO9rbCcScNmugevGsfQHiln/blnol1s\nDHNmT4ioJjwLGBOVenVKZHArLSvbsJnO//JxsEVaE54FjIlaU4ecXFZ2ewuXlW3YTDdxYBfubKVm\nupZq2IR303MbKSgJzyY8CxgTtfzvS2ppP0zDZro5sye0ajNdS13/qUHMGNMLgIPHyrjl+U1h2YQX\n+r8pYxzxX1a2JTc+BqOZrqVEhAevGlfXhLc6+zAPL9sV4qpOZQFjolaXpHhGprVsWdlgNtO1VG0T\nXgevCe8v7+xm6fbwasKzgDFRrfY0qawy8GVlGzbTzRjTy3kzXUv5mvDG1j2/beEW9hQcD2FF9VnA\nmKjWkmk0H1pWv5nuwavGhfWqi5eN7c13p/oCsNhbiylcmvAsYExUmzioa93iZqsDGOhdsu0gc98J\nXTNdS901o34T3s/DpAnPAsZEteSEOMZ5y8pu+rjpZWWz80u47V9b6p6HopmupWqb8Lon+5rwXtm8\nn/lrQt+EZwFjop7/srLrTrOsrK+ZbmNYNNO1lK8Jb3xdE969r2ew8ePQNuFZwJio5z8O09jlalXl\nrn9vJfNQMRAezXQtNXlwN+6c5jcT3j9C24RnAWOinv+yso013D27ei+vbg6/ZrqW+t6n6zfh/WhB\n6JrwIvdv0ZgAJbaLJd0bAG24rOyGvUXc958MIPya6Vqqtgmv9l6sVbsP8/s3QtOEZwFj2oTa0yTf\nsrK+cZiCknJuem4jldXh20zXUskJccz9xskmvCdW7GZZCJrwLGBMm+B/X9KLG/axp6CEW57fxEFv\ncbZwbqZrqWE9U3jgypNNeD9duIXt+4+yKquANdmHKasMvLO5pcL/Ar8xraC8qoYYgRqFN3fk8eaO\nvLr3IqGZrqUuH9ebjR8X8feVORSXV3HZn9+ntj2mU/t2/OCiIfzPZwY7+7M7PYIRkWkikikiWSJy\nZyPvJ4jIP73314rIQJf1mLZp+/6jfPvvH1DTSN+ZAH/4+nkR0UzXUj+fcS49vEmq/HvvjpZW8n//\n3cnjK3Y727ezgBGRWGAOMB0YCVwjIiMbbHY9UKSqQ4E/AA+4qse0XY+9nUVZZeNXURQCvkcpUhWU\nlDd5qfrx5VkUl1U62bfLI5hJQJaqZqtqBfACMKvBNrOAZ7zHLwKfl2g8TjUho6q8tTOvyW3e3HEo\nSNWExorM/EaP3modr6hmbXbjDYhny2XA9AH2+T3P9V5rdBtVrQKOAt0abIOI3CAi60VkfX5+vqNy\nTTRSpdkekMownKipNQXSA+Pq78BlwDR2JNIwRwPZBlWdp6rpqpqempraKsWZtiEmRjh/QJcmt5k4\nMLiXpvt2ac+g7kn07dI+KPs7f0DTf77YGGF8/6b/jlrK5chWLtDP73lfYP9ptskVkTigE+DmWM20\nWTd+dgjrctY3+l5yQhzXTh4Q1HrmXz85qPsb2bsjnz0nlXd2NX70/+Xz+tCrk5vmQpdHMOuAYSIy\nSETigauBRQ22WQR8y3t8FfC2hsM95iaqfP7cntw7axTxcfV/3FNTEvj7dyY6+8cVTh69eny9XqBa\n00b14r4vj3a2X3H571lEZgB/BGKBp1T1fhG5B1ivqotEJBGYD4zHd+RytapmN/WZ6enpun5947+N\njGlK4fEKFm89wOGSCganJnEcXR4KAAAE1klEQVTpqJ4kxMWGuqygUVU27TvC6t2HiRHhs+ekMrJ3\nx5Z+XEAXY5wGjAsWMMaEhYACxm4VMMY4YwFjjHHGAsYY44wFjDHGGQsYY4wzFjDGGGcsYIwxzljA\nGGOcibhGOxHJB85mRanuQPNL/LkV6hps//YzcLb7L1DVac1tFHEBc7ZEZL2qprflGmz/9jMQrP3b\nKZIxxhkLGGOMM20xYOaFugBCX4PtP/RCXUNQ9t/mxmCMMcHTFo9gjDFBYgFjjHGmTQVMcwvBOd73\nUyKSJyLbgrlfv/33E5HlIrJDRLaLyI9DUEOiiHwgIlu8Gn4T7Bq8OmJFZJOIvB6CfeeIyFYR2Swi\nIZk5TUQ6i8iLIrLT+3m40Nm+2soYjLcQ3C7gC/gmG18HXKOqGUHa/2eAEuBZVXU3Cerp958GpKnq\nRhFJATYAXw7Wn9+rQYAkVS0RkXbA+8CPVXVNsGrw6rgVSAc6quplQd53DpCuqiFrshORZ4D3VPVv\n3nzZHVTVyepzbekIJpCF4JxR1XcJ4YoJqnpAVTd6j4uBHZy6TpXrGlRVS7yn7byvoP6GE5G+wJeA\nvwVzv+FCRDoCnwGeBFDVClfhAm0rYAJZCK5N8NYAHw+sDcG+Y0VkM5AHvKGqwa7hj8AdQKhWW1Ng\nmYhsEJEbQrD/wUA+8HfvNPFvIpLkamdtKWACWuQt2olIMvAS8BNVPRbs/atqtaqeh2+drEkiErTT\nRRG5DMhT1Q3B2mcjpqrqBHxrtt/knToHUxwwAXhCVccDxwFn45FtKWACWQguqnnjHi8Bz6nqv0NZ\ni3dYvgJo9oa5VjQVmOmNg7wAfE5E/hHE/aOq+73/5gEv4zt1D6ZcINfvyPFFfIHjRFsKmEAWgota\n3gDrk8AOVX0kRDWkikhn73F74BJgZ7D2r6p3qWpfVR2I7///26r6jWDtX0SSvAF2vNOSS4GgXlVU\n1YPAPhEZ7r30ecDZQL/LpWPDiqpWicjNwFJOLgS3PVj7F5EFwEVAdxHJBX6lqk8Ga//4fntfB2z1\nxkAAfq6qi4NYQxrwjHdFLwZYqKpBv1QcQj2Bl31ZTxzwvKouCUEdtwDPeb9os4HvuNpRm7lMbYwJ\nvrZ0imSMCTILGGOMMxYwxhhnLGCMMc5YwBhjnLGAMWdFRKq9O4O3ici/RKRDK3zmt0Xksdaoz4SW\nBYw5W6Wqep53h3gFcGOg3+j1w5goZgFjWtN7wFAAEXnFu6Fvu/9NfSJSIiL3iMha4EIRmSgiq7w5\nYj6o7XQFeovIEhH5SEQeDMGfxbSCNtPJa9wSkTh8N/DVdqZ+V1ULvVsC1onIS6p6GEgCtqnq3V4n\n6U7g66q6zptKoNT7/vPw3fFdDmSKyJ9VdR8moljAmLPV3u/Wg/fw5hkBfiQiV3iP+wHDgMNANb4b\nLgGGAwdUdR1A7d3dXiv9W6p61HueAQyg/nQbJgJYwJizVepNv1BHRC7CdyPjhap6QkRWAIne22Wq\nWl27KaefMqPc73E19rMakWwMxrjQCSjywmUEcMFpttuJb6xlIoCIpHinWiZK2P9M48IS4EYR+RDI\nBBqdc1dVK0Tk68CfvbGaUnxHPiZK2N3Uxhhn7BTJGOOMBYwxxhkLGGOMMxYwxhhnLGCMMc5YwBhj\nnLGAMcY48/8Bgt9bTHxkTeEAAAAASUVORK5CYII=\n",
      "text/plain": [
       "<matplotlib.figure.Figure at 0x249ef060a90>"
      ]
     },
     "metadata": {},
     "output_type": "display_data"
    }
   ],
   "source": [
    "sns.factorplot(x='Parch', y='Survived', data=df_exp)\n",
    "plt.show()"
   ]
  },
  {
   "cell_type": "code",
   "execution_count": 71,
   "metadata": {},
   "outputs": [
    {
     "data": {
<<<<<<< HEAD
      "image/png": "iVBORw0KGgoAAAANSUhEUgAAAd8AAAFJCAYAAADaPycGAAAABHNCSVQICAgIfAhkiAAAAAlwSFlz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\nRU5ErkJggg==\n",
      "text/plain": [
       "<matplotlib.figure.Figure at 0x252b5ca7fd0>"
=======
      "image/png": "iVBORw0KGgoAAAANSUhEUgAAAYUAAAEKCAYAAAD9xUlFAAAABHNCSVQICAgIfAhkiAAAAAlwSFlz\nAAALEgAACxIB0t1+/AAAADl0RVh0U29mdHdhcmUAbWF0cGxvdGxpYiB2ZXJzaW9uIDIuMS4wLCBo\ndHRwOi8vbWF0cGxvdGxpYi5vcmcvpW3flQAAErZJREFUeJzt3X+QXld93/H3xxKuY8fgEqkVtSzk\nFoXEpRTTxcA4A04w1NCM3U7cYDc0P8pEwwyGdEjQOA1jEmeYTkWH/CCGRgXCjxC7jt1k1FTFacEY\n161BMjjGv5SqtkEre8e/sLHBIGR/+8dzdbper3aflZ67V2u/XzM7e+99znP2u5rVfvaee8+5qSok\nSQI4ZugCJElHD0NBktQYCpKkxlCQJDWGgiSpMRQkSY2hIElqDAVJUmMoSJKa1UMXsFRr1qypjRs3\nDl2GJK0oN91004NVtXaxdisuFDZu3MiuXbuGLkOSVpQk3xinncNHkqTGUJAkNYaCJKkxFCRJjaEg\nSWp6C4Ukn0hyf5JbD/F6kvx+kj1Jbknyyr5qkSSNp88zhU8C5yzw+puBTd3HZuCjPdYiSRpDb6FQ\nVV8CHl6gyXnAp2vkRuCkJC/qqx5J0uKGnLx2MrB31v50d+y+YcqRDt+WLVuYmZlh3bp1bN26dehy\npMM2ZChknmM1b8NkM6MhJjZs2NBnTdJhmZmZYd++fUOXIR2xIe8+mgZOmbW/Hrh3voZVta2qpqpq\nau3aRZfukCQdpiFDYTvw891dSK8BHq0qh44kaUC9DR8luRw4C1iTZBp4P/A8gKr6D8AO4C3AHuC7\nwC/1VYskaTy9hUJVXbjI6wW8s6+vL0laOmc0S5IaQ0GS1BgKkqTGUJAkNYaCJKkxFCRJjaEgSWoM\nBUlSYyhIkhpDQZLUGAqSpMZQkCQ1hoIkqTEUJEmNoSBJagwFSVJjKEiSGkNBktQYCpKkxlCQJDWG\ngiSpMRQkSY2hIElqDAVJUmMoSJIaQ0GS1BgKkqTGUJAkNYaCJKkxFCRJjaEgSWoMBUlS02soJDkn\nye4ke5JcPM/rG5Jcm+RrSW5J8pY+65EkLay3UEiyCrgMeDNwGnBhktPmNHsfcGVVnQ5cAHykr3ok\nSYvr80zhDGBPVd1VVfuBK4Dz5rQp4Pnd9guAe3usR5K0iNU99n0ysHfW/jTw6jltfhP4yyTvAk4A\nzu6xHknSIvo8U8g8x2rO/oXAJ6tqPfAW4DNJnlFTks1JdiXZ9cADD/RQqiQJ+g2FaeCUWfvreebw\n0NuBKwGq6n8DxwFr5nZUVduqaqqqptauXdtTuZKkPkNhJ7ApyalJjmV0IXn7nDbfBN4AkOTHGYWC\npwKSNJDeQqGqDgAXAdcAdzC6y+i2JJcmObdr9qvALyf5K+By4Berau4QkyRpmfR5oZmq2gHsmHPs\nklnbtwNn9lmDJGl8zmiWJDWGgiSpMRQkSY2hIElqDAVJUmMoSJIaQ0GS1BgKkqTGUJAkNYaCJKkx\nFCRJjaEgSWoMBUlSYyhIkhpDQZLUGAqSpMZQkCQ1hoIkqTEUJEmNoSBJagwFSVJjKEiSGkNBktQY\nCpKkxlCQJDWGgiSpWT10AZqcLVu2MDMzw7p169i6devQ5UhagQyFZ5GZmRn27ds3dBmSVjCHjyRJ\njaEgSWoMBUlSYyhIkhpDQZLULBgKSR5L8u1DfSzWeZJzkuxOsifJxYdo87NJbk9yW5I/OdxvRJJ0\n5Ba8JbWqTgRIcikwA3wGCPBzwIkLvTfJKuAy4I3ANLAzyfaqun1Wm03ArwNnVtW3kvytI/heJElH\naNzho39cVR+pqseq6ttV9VHgZxZ5zxnAnqq6q6r2A1cA581p88vAZVX1LYCqun8pxUuSJmvcyWtP\nJvk5Rr/YC7gQeHKR95wM7J21Pw28ek6bHwVIcgOwCvjNqvrcmDXpWcYZ2Tpc/uxMzrih8C+A3+s+\nCrihO7aQzHOs5vn6m4CzgPXA9UleVlWPPK2jZDOwGWDDhg1jlqyVZogZ2de97vUT6eeJ1asg4Ynp\n6Yn1+fovXTeRfp4LnM0/OWOFQlXdwzOHfhYzDZwya389cO88bW6sqh8AdyfZzSgkds75+tuAbQBT\nU1Nzg0WSNCFjXVNI8qNJPp/k1m7/5Unet8jbdgKbkpya5FjgAmD7nDZ/Dvxk1+caRsNJdy3lG5Ak\nTc64F5r/I6O7hH4AUFW3MPolf0hVdQC4CLgGuAO4sqpuS3JpknO7ZtcADyW5HbgWeG9VPbT0b0OS\nNAnjXlM4vqq+kjztMsGBxd5UVTuAHXOOXTJru4D3dB+SpIGNe6bwYJK/R3ehOMn5wH29VSVJGsS4\nZwrvZHSh98eS7APuZjSBTZL0LDJuKHyjqs5OcgJwTFU91mdRkqRhjDt8dHeSbcBrgMd7rEeSNKBx\nQ+GlwP9gNIx0d5I/SPIT/ZUlSRrCuJPXngCuBK5M8jcZzWy+jtHSFDpC37z0H0yknwMPvxBYzYGH\nvzGRPjdc8vUjL0rSijL28xSSvD7JR4CvAscBP9tbVZKkQYx1ppDkbuBmRmcL762q7/RalSRpEOPe\nffQPq2rRh+pIkla2BUMhyZaq2gp8IMkzFqKrqnf3VpkkadktdqZwR/d5V9+FSJKGt9jjOP9Lt3lL\nVX1tGeqRJA1o3LuPPpTkziS/neTv91qRJGkwY4VCVf0ko6ejPQBsS/L1MZ6nIElaYcaep1BVM1X1\n+8A7GN2eeskib5EkrTDjzlP4ceCtwPnAQ8AVwK/2WJdWkDM/fOZE+jn2kWM5hmPY+8jeifR5w7tu\nmEBV0nPLuPMU/gi4HHhTVc19zrIk6Vli0VBIsgr4v1X1e8tQjyRpQIteU6iqJ4EfSXLsMtQjSRrQ\n2A/ZAW5Ish1o6x5V1Yd6qUqSNIhxQ+He7uMY4MT+ypEkDWnc5yn8Vt+FSJKGN+4tqdcC8y2I91MT\nr0iSNJhxh49+bdb2ccDPAAcmX46OxJrjngIOdJ8laenGHT66ac6hG5Jc10M9OgK/9vJHhi5B0go3\n7vDRC2ftHgNMAet6qUiSNJhxh49u4v9fUzgA3AO8vY+CJEnDWezJa68C9lbVqd3+LzC6nnAPcHvv\n1UmSltViM5r/ENgPkOR1wL8FPgU8CmzrtzRJ0nJbbPhoVVU93G2/FdhWVVcDVye5ud/SJEnLbbEz\nhVVJDgbHG4AvzHpt3OsRkqQVYrFf7JcD1yV5EHgCuB4gyUsYDSFJkp5FFjxTqKoPMHqYzieBn6iq\ng3cgHQO8a7HOk5yTZHeSPUkuXqDd+UkqydT4pUuSJm3RIaCqunGeY3+92Pu65zBcBrwRmAZ2Jtle\nVbfPaXci8G7gy+MWLUnqx9jPaD4MZwB7ququqtrP6BGe583T7reBrcD3eqxFkjSGPkPhZGDvrP3p\n7liT5HTglKr6ix7rkCSNqc9QyDzH2kqrSY4BfofRNYuFO0o2J9mVZNcDDzwwwRIlSbP1GQrTwCmz\n9tczelDPQScCLwO+mOQe4DXA9vkuNlfVtqqaqqqptWvX9liyJD239RkKO4FNSU7tnu98AbD94ItV\n9WhVramqjVW1EbgROLeqdvVYkyRpAb1NQKuqA0kuAq4BVgGfqKrbklwK7Kqq7Qv3sPy2bNnCzMwM\n69atY+vWrUOXI0nLrtdZyVW1A9gx59glh2h7Vp+1jGNmZoZ9+/YNXcZzVh1fPMVT1PHPeMifpGXi\nUhU6avzgzB8MXYL0nNfnNQVJ0gpjKEiSGkNBktQYCpKkxlCQJDWGgiSpeVbckvqP3vvpifRz4oOP\nsQr45oOPTaTPmz7480delCQtI88UJEmNoSBJagwFSVJjKEiSGkNBktQYCpKkxlCQJDXPinkKk/LU\nsSc87bMkPdcYCrN8Z9Obhi5Bkgbl8JEkqTEUJEmNoSBJagwFSVJjKEiSGkNBktQYCpKkxlCQJDWG\ngiSpMRQkSY2hIElqDAVJUmMoSJIaQ0GS1BgKkqTGUJAkNb2GQpJzkuxOsifJxfO8/p4ktye5Jcnn\nk7y4z3okSQvrLRSSrAIuA94MnAZcmOS0Oc2+BkxV1cuBq4CtfdUjSVpcn2cKZwB7ququqtoPXAGc\nN7tBVV1bVd/tdm8E1vdYjyRpEX0+o/lkYO+s/Wng1Qu0fzvw3+Z7IclmYDPAhg0bJlWfpIF94G3n\nT6Sfh+9/dPR55r6J9Pkbf3zVEfexUvV5ppB5jtW8DZO3AVPAB+d7vaq2VdVUVU2tXbt2giVKk3FS\nFS+s4qSa90dcWjH6PFOYBk6Ztb8euHduoyRnA78BvL6qvt9jPVJv3vbkU0OXIE1En2cKO4FNSU5N\ncixwAbB9doMkpwN/CJxbVff3WIskaQy9hUJVHQAuAq4B7gCurKrbklya5Nyu2QeBHwb+NMnNSbYf\nojtJ0jLoc/iIqtoB7Jhz7JJZ22f3+fUlSUvjjGZJUmMoSJIaQ0GS1BgKkqTGUJAkNYaCJKkxFCRJ\njaEgSWoMBUlSYyhIkhpDQZLUGAqSpMZQkCQ1hoIkqTEUJEmNoSBJagwFSVJjKEiSGkNBktQYCpKk\nxlCQJDWGgiSpMRQkSY2hIElqDAVJUmMoSJIaQ0GS1BgKkqTGUJAkNYaCJKkxFCRJjaEgSWp6DYUk\n5yTZnWRPkovnef1vJPlP3etfTrKxz3okSQvrLRSSrAIuA94MnAZcmOS0Oc3eDnyrql4C/A7w7/qq\nR5K0uD7PFM4A9lTVXVW1H7gCOG9Om/OAT3XbVwFvSJIea5IkLaDPUDgZ2Dtrf7o7Nm+bqjoAPAr8\nSI81SZIWsLrHvuf7i78Oow1JNgObu93Hk+w+wtoWsgZ4cBId5d//wiS6WaqJ1c/7Bzlpm9y//7uX\nvf7J/dsDLP9J82TrX35rgAf/6wQ6et9nV/bP/iG8eJxGfYbCNHDKrP31wL2HaDOdZDXwAuDhuR1V\n1TZgW091Pk2SXVU1tRxfqw/WP5yVXDtY/9COlvr7HD7aCWxKcmqSY4ELgO1z2mwHDv45fT7whap6\nxpmCJGl59HamUFUHklwEXAOsAj5RVbcluRTYVVXbgY8Dn0myh9EZwgV91SNJWlyfw0dU1Q5gx5xj\nl8za/h7wz/us4TAsyzBVj6x/OCu5drD+oR0V9cfRGknSQS5zIUlqDIXOYktyHO2SfCLJ/UluHbqW\npUpySpJrk9yR5LYkvzJ0TUuR5LgkX0nyV139vzV0TYcjyaokX0vyF0PXslRJ7kny9SQ3J9k1dD1L\nleSkJFclubP7f/DawWpx+KgtyfHXwBsZ3Sa7E7iwqm4ftLAlSPI64HHg01X1sqHrWYokLwJeVFVf\nTXIicBPwT1fKv383C/+Eqno8yfOA/wn8SlXdOHBpS5LkPcAU8Pyq+umh61mKJPcAU1W1IudZJPkU\ncH1Vfay7W/P4qnpkiFo8UxgZZ0mOo1pVfYl55nisBFV1X1V9tdt+DLiDZ85+P2rVyOPd7vO6jxX1\n11aS9cA/AT42dC3PNUmeD7yO0d2YVNX+oQIBDIWDxlmSQ8ugWyn3dODLw1ayNN3Qy83A/cB/r6oV\nVT/wu8AW4KmhCzlMBfxlkpu6FRBWkr8LPAD8UTd897EkJwxVjKEwMtZyG+pXkh8Grgb+dVV9e+h6\nlqKqnqyqVzCauX9GkhUzhJfkp4H7q+qmoWs5AmdW1SsZrcr8zm44daVYDbwS+GhVnQ58Bxjsuqah\nMDLOkhzqUTcWfzXw2ar6z0PXc7i60/4vAucMXMpSnAmc243LXwH8VJI/Hrakpamqe7vP9wN/xmhI\neKWYBqZnnV1exSgkBmEojIyzJId60l2o/ThwR1V9aOh6lirJ2iQndds/BJwN3DlsVeOrql+vqvVV\ntZHRz/4XquptA5c1tiQndDco0A27vAlYMXfhVdUMsDfJS7tDbwAGu8mi1xnNK8WhluQYuKwlSXI5\ncBawJsk08P6q+viwVY3tTOBfAl/vxuUB/k03I34leBHwqe4utmOAK6tqxd3WuYL9beDPukexrAb+\npKo+N2xJS/Yu4LPdH6V3Ab80VCHekipJahw+kiQ1hoIkqTEUJEmNoSBJagwFSVJjKEjzSPJkt+Lm\nrUn+NMnxE+jzF5P8wSTqk/piKEjze6KqXtGtOLsfeMe4b+zmK0grkqEgLe564CUASf68W3TtttkL\nryV5PMmlSb4MvDbJq5L8r+4ZC185OOMW+DtJPpfk/yTZOsD3Ii3IGc3SApKsZrTI2sEZsv+qqh7u\nlrPYmeTqqnoIOAG4taou6Wal3gm8tap2dksjP9G9/xWMVoH9PrA7yYerai/SUcJQkOb3Q7OW3Lie\nbq174N1J/lm3fQqwCXgIeJLRgn4ALwXuq6qdAAdXfO2WYfh8VT3a7d8OvJinL9suDcpQkOb3RLcU\ndpPkLEaL3b22qr6b5IvAcd3L36uqJw825dBLr39/1vaT+H9QRxmvKUjjewHwrS4Qfgx4zSHa3cno\n2sGrAJKc2A1DSUc9f1Cl8X0OeEeSW4DdwLzPYK6q/UneCny4u/bwBKMzDOmo5yqpkqTG4SNJUmMo\nSJIaQ0GS1BgKkqTGUJAkNYaCJKkxFCRJjaEgSWr+H6MHFqnifHwPAAAAAElFTkSuQmCC\n",
      "text/plain": [
       "<matplotlib.figure.Figure at 0x249ef04d2b0>"
>>>>>>> f477a11f7afee82963c458d1185012d5b709863b
      ]
     },
     "metadata": {},
     "output_type": "display_data"
    }
   ],
   "source": [
<<<<<<< HEAD
    "df_exp['Age'].hist(bins=30, edgecolor='black')\n",
    "# sns.distplot(df_exp[df_exp['Age'].notnull()]['Age'])\n",
=======
    "sns.barplot(x='Parch', y='Survived', data=df_exp)\n",
>>>>>>> f477a11f7afee82963c458d1185012d5b709863b
    "plt.show()"
   ]
  },
  {
   "cell_type": "code",
   "execution_count": 73,
   "metadata": {},
   "outputs": [
    {
     "data": {
      "text/plain": [
       "0.081629407083483652"
      ]
     },
     "execution_count": 73,
     "metadata": {},
     "output_type": "execute_result"
    }
   ],
   "source": [
    "df_exp['Parch'].corr(df_exp['Survived'])"
   ]
  },
  {
   "cell_type": "code",
   "execution_count": 75,
   "metadata": {
    "collapsed": true
   },
   "outputs": [],
   "source": [
    "# It seems as passengers with no parents and children have a lower chance of surviving.\n",
    "# on the other hand passangers with 1 or 2 parent or child has 50% or more chance of survival. \n",
    "# The attributes 'SibSp' and 'Parch' can be combined to get the family size which will adequately get info from two attribues.\n",
    "# Family size can also be further discretized into '1', '2', and '>2'"
   ]
  },
  {
   "cell_type": "code",
   "execution_count": null,
   "metadata": {
    "collapsed": true
   },
   "outputs": [],
   "source": []
  }
 ],
 "metadata": {
  "kernelspec": {
   "display_name": "Python 3",
   "language": "python",
   "name": "python3"
  },
  "language_info": {
   "codemirror_mode": {
    "name": "ipython",
    "version": 3
   },
   "file_extension": ".py",
   "mimetype": "text/x-python",
   "name": "python",
   "nbconvert_exporter": "python",
   "pygments_lexer": "ipython3",
   "version": "3.6.3"
  }
 },
 "nbformat": 4,
 "nbformat_minor": 2
}
